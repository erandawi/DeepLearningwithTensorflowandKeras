{
 "cells": [
  {
   "cell_type": "markdown",
   "metadata": {},
   "source": [
    "#### Tensorflow has three ways to create model.\n",
    "- sequential API\n",
    "- functional API\n",
    "- model subclassing\n",
    "\n",
    "Simplest one is Sequential()"
   ]
  },
  {
   "cell_type": "markdown",
   "metadata": {},
   "source": [
    "import tensorflow as tf\n",
    "from tensorflow import keras\n",
    "NB_CLASSES = 10\n",
    "RESHAPED = 784\n",
    "model = tf.keras.models.Sequential()\n",
    "model.add(keras.layers.Dense(NB_CLASSES,\n",
    "            input_shape = (RESHAPED,),kernel_initializer = 'zeros',\n",
    "            naem ='dense_layer', activation = 'softmax'))"
   ]
  },
  {
   "cell_type": "code",
   "execution_count": null,
   "metadata": {},
   "outputs": [],
   "source": [
    "\n",
    "import tensorflow as tf\n",
    "from tensorflow import keras\n",
    "NB_CLASSES = 10\n",
    "RESHAPED = 784\n",
    "model = tf.keras.models.Sequential()\n",
    "model.add(keras.layers.Dense(NB_CLASSES,\n",
    "            input_shape = (RESHAPED,),kernel_initializer = 'zeros',\n",
    "            name ='dense_layer', activation = 'softmax'))"
   ]
  },
  {
   "cell_type": "markdown",
   "metadata": {},
   "source": [
    "##### Dense \n",
    "- each neuron in a layer is connected to all neurons located in the previous layer.\n",
    "##### kernel_initializer\n",
    "- we can initialized specific weights with this\n",
    "    -  random_unifrom - weights are initialized uniformly random small values in the range(-0.05, 0.05)\n",
    "    -  random_normal - weights initialized according to gaussian distribution, with zero mean and standard deviation of 0.05\n",
    "    -  zero - all weights are initialized to zero"
   ]
  },
  {
   "cell_type": "code",
   "execution_count": null,
   "metadata": {},
   "outputs": [],
   "source": []
  }
 ],
 "metadata": {
  "kernelspec": {
   "display_name": "study",
   "language": "python",
   "name": "python3"
  },
  "language_info": {
   "codemirror_mode": {
    "name": "ipython",
    "version": 3
   },
   "file_extension": ".py",
   "mimetype": "text/x-python",
   "name": "python",
   "nbconvert_exporter": "python",
   "pygments_lexer": "ipython3",
   "version": "3.10.0"
  }
 },
 "nbformat": 4,
 "nbformat_minor": 2
}
